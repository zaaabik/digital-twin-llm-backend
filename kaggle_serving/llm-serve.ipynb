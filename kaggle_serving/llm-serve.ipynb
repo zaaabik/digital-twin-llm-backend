{
 "cells": [
  {
   "cell_type": "markdown",
   "metadata": {
    "id": "RZlUdp7kmBtZ"
   },
   "source": [
    "## Part"
   ]
  },
  {
   "cell_type": "code",
   "execution_count": null,
   "metadata": {},
   "outputs": [],
   "source": [
    "!pip install bitsandbytes fastapi uvicorn peft pyngrok"
   ]
  },
  {
   "cell_type": "code",
   "execution_count": null,
   "metadata": {
    "colab": {
     "base_uri": "https://localhost:8080/"
    },
    "id": "2XvWl30ySCcB",
    "outputId": "275891b7-39c9-4532-bd98-0358e36ae778"
   },
   "outputs": [],
   "source": [
    "!git clone https://github.com/zaaabik/digital-twin-llm-backend.git\n",
    "%cd digital-twin-llm-backend"
   ]
  },
  {
   "cell_type": "markdown",
   "metadata": {
    "id": "SBqqXx3wSMsQ"
   },
   "source": [
    "## NGROK run"
   ]
  },
  {
   "cell_type": "code",
   "execution_count": null,
   "metadata": {
    "colab": {
     "base_uri": "https://localhost:8080/"
    },
    "id": "Pze3dxKmSN5M",
    "outputId": "7610169c-037c-439f-bfa8-68af55334c4f"
   },
   "outputs": [],
   "source": [
    "!wget https://bin.equinox.io/c/bNyj1mQVY4c/ngrok-v3-stable-linux-amd64.tgz\n",
    "!tar -xvzf ngrok-v3-stable-linux-amd64.tgz"
   ]
  },
  {
   "cell_type": "markdown",
   "metadata": {
    "id": "QwopEqK-SPsI"
   },
   "source": [
    "## RUN LLM"
   ]
  },
  {
   "cell_type": "code",
   "execution_count": null,
   "metadata": {},
   "outputs": [],
   "source": [
    "from kaggle_secrets import UserSecretsClient\n",
    "from pyngrok import ngrok\n",
    "\n",
    "user_secrets = UserSecretsClient()"
   ]
  },
  {
   "cell_type": "code",
   "execution_count": null,
   "metadata": {},
   "outputs": [],
   "source": [
    "!./ngrok config add-authtoken {user_secrets.get_secret(\"NGROK_TOKEN\")}"
   ]
  },
  {
   "cell_type": "code",
   "execution_count": null,
   "metadata": {
    "_kg_hide-output": false,
    "colab": {
     "base_uri": "https://localhost:8080/"
    },
    "id": "rPbhinpFNHjD",
    "outputId": "aa3983fc-b62c-4e0b-fbbc-d00b1e0ce2c7"
   },
   "outputs": [],
   "source": [
    "port = 8000\n",
    "ngrok_tunnel = ngrok.connect(port)\n",
    "\n",
    "# where we can visit our fastAPI app\n",
    "print('Public URL:', ngrok_tunnel.public_url)\n",
    "\n",
    "!git pull\n",
    "!MODEL_NAME={user_secrets.get_secret(\"MODEL_NAME\")} \\\n",
    "HF_TOKEN={user_secrets.get_secret(\"HF_TOKEN\")} \\\n",
    "CONTEXT_SIZE=8 \\\n",
    "USE_8_BIT=true \\\n",
    "USE_FLASH_ATTENTION=false \\\n",
    "uvicorn app:app --host 0.0.0.0 --port 8000"
   ]
  }
 ],
 "metadata": {
  "accelerator": "GPU",
  "colab": {
   "gpuType": "T4",
   "provenance": []
  },
  "kernelspec": {
   "display_name": "Python 3",
   "language": "python",
   "name": "python3"
  },
  "language_info": {
   "codemirror_mode": {
    "name": "ipython",
    "version": 3
   },
   "file_extension": ".py",
   "mimetype": "text/x-python",
   "name": "python",
   "nbconvert_exporter": "python",
   "pygments_lexer": "ipython3",
   "version": "3.10.12"
  }
 },
 "nbformat": 4,
 "nbformat_minor": 4
}
